{
 "cells": [
  {
   "cell_type": "markdown",
   "metadata": {},
   "source": [
    "# Liver Segmentation: All Stage Training\n",
    "\n",
    "Train a deep learning neural network using both early-, intermediate, and advanced-stage HCC cancer subjects. \n",
    "In this case, early- and intermediate stage subjects were take to be those with BCLC stages 0, A, and B, and advanced stage disease was BCLC C and D.\n",
    "We then evaluate the model on data that spans the full spectrum of cancer stages, in this case BCLC 0, A, B, C, and D.\n",
    "This experiment uses n=220 images from Yale that were segmented by M. Gross on arterial phase T1 MRI.\n",
    "This model uses PyTorch and the MONAI framework. \n"
   ]
  },
  {
   "cell_type": "code",
   "execution_count": 1,
   "metadata": {},
   "outputs": [
    {
     "name": "stdout",
     "output_type": "stream",
     "text": [
      "MONAI version: 0.3.0rc3\n",
      "Python version: 3.8.3 (default, May 19 2020, 18:47:26)  [GCC 7.3.0]\n",
      "Numpy version: 1.19.2\n",
      "Pytorch version: 1.5.1\n",
      "\n",
      "Optional dependencies:\n",
      "Pytorch Ignite version: NOT INSTALLED or UNKNOWN VERSION.\n",
      "Nibabel version: 3.1.0\n",
      "scikit-image version: 0.17.2\n",
      "Pillow version: 7.2.0\n",
      "Tensorboard version: 1.15.0\n",
      "gdown version: NOT INSTALLED or UNKNOWN VERSION.\n",
      "TorchVision version: 0.6.0a0+35d732a\n",
      "ITK version: NOT INSTALLED or UNKNOWN VERSION.\n",
      "\n",
      "For details about installing the optional dependencies, please visit:\n",
      "    https://docs.monai.io/en/latest/installation.html#installing-the-recommended-dependencies\n",
      "\n"
     ]
    }
   ],
   "source": [
    "import IPython\n",
    "import matplotlib.pyplot as plt\n",
    "import nibabel as nib\n",
    "import numpy as np\n",
    "import os\n",
    "import pandas as pd\n",
    "import pytorch_lightning\n",
    "import torch\n",
    "import time\n",
    "from torch.utils.data import DataLoader\n",
    "\n",
    "import monai\n",
    "from monai.transforms import \\\n",
    "    Compose, LoadNiftid, AddChanneld, Orientationd, \\\n",
    "    NormalizeIntensityd, ScaleIntensityRangePercentilesd, \\\n",
    "    SpatialPadd, Spacingd, \\\n",
    "    RandCropByPosNegLabeld, ToTensord,  \\\n",
    "    DataStatsd, AsDiscrete, KeepLargestConnectedComponent\n",
    "from monai.data import list_data_collate\n",
    "from monai.networks.layers import Norm\n",
    "\n",
    "from monai.metrics import DiceMetric\n",
    "from monai.inferers import sliding_window_inference\n",
    "from monai.utils import set_determinism\n",
    "from monai.metrics import compute_meandice\n",
    "from monai.metrics import compute_hausdorff_distance\n",
    "from monai.metrics import compute_average_surface_distance\n",
    "\n",
    "# Import the network\n",
    "import sys\n",
    "sys.path.append('../')\n",
    "import network\n",
    "import utils\n",
    "\n",
    "monai.config.print_config()"
   ]
  },
  {
   "cell_type": "markdown",
   "metadata": {},
   "source": [
    "## Verify System Setup\n",
    "Check torch and CUDA on the system."
   ]
  },
  {
   "cell_type": "code",
   "execution_count": 2,
   "metadata": {},
   "outputs": [
    {
     "name": "stdout",
     "output_type": "stream",
     "text": [
      "CUDA available:  True\n",
      "GPU 0: Quadro RTX 8000\n"
     ]
    }
   ],
   "source": [
    "print('CUDA available: ', torch.cuda.is_available())\n",
    "\n",
    "n_gpus = torch.cuda.device_count()\n",
    "for i in range(n_gpus):\n",
    "    print('GPU %d: %s' % (i, torch.cuda.get_device_name(i)))\n"
   ]
  },
  {
   "cell_type": "markdown",
   "metadata": {},
   "source": [
    "## Load the Data"
   ]
  },
  {
   "cell_type": "code",
   "execution_count": 3,
   "metadata": {},
   "outputs": [
    {
     "name": "stdout",
     "output_type": "stream",
     "text": [
      "Dataset contains 201 entries\n"
     ]
    },
    {
     "data": {
      "text/html": [
       "<div>\n",
       "<style scoped>\n",
       "    .dataframe tbody tr th:only-of-type {\n",
       "        vertical-align: middle;\n",
       "    }\n",
       "\n",
       "    .dataframe tbody tr th {\n",
       "        vertical-align: top;\n",
       "    }\n",
       "\n",
       "    .dataframe thead th {\n",
       "        text-align: right;\n",
       "    }\n",
       "</style>\n",
       "<table border=\"1\" class=\"dataframe\">\n",
       "  <thead>\n",
       "    <tr style=\"text-align: right;\">\n",
       "      <th></th>\n",
       "      <th>IMAGE</th>\n",
       "      <th>SEGM</th>\n",
       "      <th>BCLC-2011</th>\n",
       "      <th>DATA_SPLIT</th>\n",
       "    </tr>\n",
       "  </thead>\n",
       "  <tbody>\n",
       "    <tr>\n",
       "      <th>0</th>\n",
       "      <td>/tensor5/data1/LIVER/Yale/imaging/nifti/130131...</td>\n",
       "      <td>/data1/LIVER/Yale/segm/mask_nifti/13013150/liv...</td>\n",
       "      <td>1</td>\n",
       "      <td>Training</td>\n",
       "    </tr>\n",
       "    <tr>\n",
       "      <th>1</th>\n",
       "      <td>/tensor5/data1/LIVER/Yale/imaging/nifti/E10545...</td>\n",
       "      <td>/data1/LIVER/Yale/segm/mask_nifti/E105459652/l...</td>\n",
       "      <td>0</td>\n",
       "      <td>Training</td>\n",
       "    </tr>\n",
       "    <tr>\n",
       "      <th>2</th>\n",
       "      <td>/tensor5/data1/LIVER/Yale/imaging/nifti/114471...</td>\n",
       "      <td>/home/mgross/liver_segs_centered_and_revised/1...</td>\n",
       "      <td>2</td>\n",
       "      <td>Training</td>\n",
       "    </tr>\n",
       "    <tr>\n",
       "      <th>3</th>\n",
       "      <td>/tensor5/data1/LIVER/Yale/imaging/nifti/993330...</td>\n",
       "      <td>/data1/LIVER/Yale/segm/mask_nifti/9933309/live...</td>\n",
       "      <td>1</td>\n",
       "      <td>Training</td>\n",
       "    </tr>\n",
       "    <tr>\n",
       "      <th>4</th>\n",
       "      <td>/tensor5/data1/LIVER/Yale/imaging/nifti/123588...</td>\n",
       "      <td>/data1/LIVER/Yale/segm/mask_nifti/12358811/liv...</td>\n",
       "      <td>1</td>\n",
       "      <td>Training</td>\n",
       "    </tr>\n",
       "  </tbody>\n",
       "</table>\n",
       "</div>"
      ],
      "text/plain": [
       "                                               IMAGE  \\\n",
       "0  /tensor5/data1/LIVER/Yale/imaging/nifti/130131...   \n",
       "1  /tensor5/data1/LIVER/Yale/imaging/nifti/E10545...   \n",
       "2  /tensor5/data1/LIVER/Yale/imaging/nifti/114471...   \n",
       "3  /tensor5/data1/LIVER/Yale/imaging/nifti/993330...   \n",
       "4  /tensor5/data1/LIVER/Yale/imaging/nifti/123588...   \n",
       "\n",
       "                                                SEGM  BCLC-2011 DATA_SPLIT  \n",
       "0  /data1/LIVER/Yale/segm/mask_nifti/13013150/liv...          1   Training  \n",
       "1  /data1/LIVER/Yale/segm/mask_nifti/E105459652/l...          0   Training  \n",
       "2  /home/mgross/liver_segs_centered_and_revised/1...          2   Training  \n",
       "3  /data1/LIVER/Yale/segm/mask_nifti/9933309/live...          1   Training  \n",
       "4  /data1/LIVER/Yale/segm/mask_nifti/12358811/liv...          1   Training  "
      ]
     },
     "execution_count": 3,
     "metadata": {},
     "output_type": "execute_result"
    }
   ],
   "source": [
    "INPUT_PATH = r'../../data/experiment2_all_stage.csv'\n",
    "\n",
    "df = pd.read_csv(INPUT_PATH, index_col=False)\n",
    "df.drop_duplicates(inplace=True)\n",
    "df = df[['IMAGE','SEGM','BCLC-2011','DATA_SPLIT']]\n",
    "\n",
    "print('Dataset contains %d entries' % len(df))\n",
    "df.head(5)"
   ]
  },
  {
   "cell_type": "code",
   "execution_count": 4,
   "metadata": {},
   "outputs": [
    {
     "name": "stdout",
     "output_type": "stream",
     "text": [
      "DATA_SPLIT  BCLC-2011\n",
      "Testing     0             5\n",
      "            1            17\n",
      "            2             5\n",
      "            3             7\n",
      "            4            10\n",
      "Training    0            19\n",
      "            1            74\n",
      "            2            18\n",
      "            3             8\n",
      "            4            10\n",
      "Validation  0             4\n",
      "            1            19\n",
      "            2             5\n",
      "Name: BCLC-2011, dtype: int64\n"
     ]
    }
   ],
   "source": [
    "print(df.groupby('DATA_SPLIT')['BCLC-2011'].value_counts().sort_index())\n",
    "\n",
    "df_train = df[df['DATA_SPLIT']=='Training']\n",
    "df_val = df[df['DATA_SPLIT']=='Validation']\n",
    "df_test = df[df['DATA_SPLIT']=='Testing']"
   ]
  },
  {
   "cell_type": "code",
   "execution_count": 5,
   "metadata": {},
   "outputs": [
    {
     "name": "stdout",
     "output_type": "stream",
     "text": [
      "Number of training files:  129\n",
      "Number of validation files:  28\n",
      "Number of testing files:  44\n"
     ]
    }
   ],
   "source": [
    "# Convert DF to dictionary\n",
    "train_data_dict = df_train.to_dict('records')\n",
    "val_data_dict = df_val.to_dict('records')\n",
    "test_data_dict = df_test.to_dict('records')\n",
    "\n",
    "print('Number of training files: ', len(train_data_dict))\n",
    "print('Number of validation files: ', len(val_data_dict))\n",
    "print('Number of testing files: ', len(test_data_dict))"
   ]
  },
  {
   "cell_type": "markdown",
   "metadata": {},
   "source": [
    "## Setup Input Transformations"
   ]
  },
  {
   "cell_type": "code",
   "execution_count": 6,
   "metadata": {},
   "outputs": [],
   "source": [
    "SPACING = (2.0,2.0,2.0)\n",
    "\n",
    "train_transforms = Compose([\n",
    "    LoadNiftid(keys=['IMAGE', 'SEGM']),\n",
    "    AddChanneld(keys=['IMAGE', 'SEGM']),\n",
    "    Orientationd(keys=['IMAGE','SEGM'], axcodes='RAS'),\n",
    "    Spacingd(keys=['IMAGE', 'SEGM'], pixdim=SPACING, mode=('bilinear', 'nearest'), padding_mode=('reflection','reflection')),\n",
    "    ScaleIntensityRangePercentilesd(keys=['IMAGE'], lower=25, upper=75, b_min=-0.5, b_max=0.5, clip=False),\n",
    "    SpatialPadd(keys=['IMAGE', 'SEGM'], spatial_size=(64,64,32), mode=('reflect','reflect'), ),\n",
    "    # randomly crop out patch samples from big image based on pos / neg ratio\n",
    "    RandCropByPosNegLabeld(keys=['IMAGE', 'SEGM'], label_key='SEGM', spatial_size=(64,64,32), pos=3, neg=1, num_samples=2),\n",
    "    ToTensord(keys=['IMAGE', 'SEGM'])\n",
    "])\n",
    "\n",
    "val_transforms = Compose([\n",
    "    LoadNiftid(keys=['IMAGE', 'SEGM']),\n",
    "    AddChanneld(keys=['IMAGE', 'SEGM']),\n",
    "    Orientationd(keys=['IMAGE','SEGM'], axcodes='RAS'),\n",
    "    Spacingd(keys=['IMAGE', 'SEGM'], pixdim=SPACING, mode=('bilinear', 'nearest'), padding_mode=('reflection','reflection')),\n",
    "    ScaleIntensityRangePercentilesd(keys=['IMAGE'], lower=25, upper=75, b_min=-0.5, b_max=0.5, clip=False),    \n",
    "    ToTensord(keys=['IMAGE', 'SEGM'])\n",
    "])\n",
    "\n",
    "test_transforms = Compose([\n",
    "    LoadNiftid(keys=['IMAGE', 'SEGM']),\n",
    "    AddChanneld(keys=['IMAGE', 'SEGM']),\n",
    "    Orientationd(keys=['IMAGE','SEGM'], axcodes='RAS'),\n",
    "    Spacingd(keys=['IMAGE', 'SEGM'], pixdim=SPACING, mode=('bilinear', 'nearest'), padding_mode=('reflection','reflection')),\n",
    "    ScaleIntensityRangePercentilesd(keys=['IMAGE'], lower=25, upper=75, b_min=-0.5, b_max=0.5, clip=False),\n",
    "    ToTensord(keys=['IMAGE', 'SEGM'])\n",
    "])\n",
    "\n"
   ]
  },
  {
   "cell_type": "markdown",
   "metadata": {},
   "source": [
    "## Check Input Data"
   ]
  },
  {
   "cell_type": "code",
   "execution_count": 7,
   "metadata": {},
   "outputs": [
    {
     "name": "stdout",
     "output_type": "stream",
     "text": [
      "torch.Size([1, 1, 211, 152, 135])\n",
      "image shape: torch.Size([211, 152, 135]), label shape: torch.Size([211, 152, 135])\n",
      "image mean: 0.12479522079229355\n"
     ]
    },
    {
     "data": {
      "image/png": "[encoded data removed]",
      "text/plain": [
       "<Figure size 432x216 with 2 Axes>"
      ]
     },
     "metadata": {
      "needs_background": "light"
     },
     "output_type": "display_data"
    }
   ],
   "source": [
    "# check_ds = monai.data.Dataset(data=train_data_dict[:3], transform=train_transforms)\n",
    "# check_ds = monai.data.Dataset(data=val_data_dict[:1], transform=val_transforms)\n",
    "check_ds = monai.data.Dataset(data=test_data_dict[:1], transform=test_transforms)\n",
    "\n",
    "check_loader = DataLoader(check_ds, batch_size=3, num_workers=0, collate_fn=list_data_collate)\n",
    "check_data = monai.utils.misc.first(check_loader)\n",
    "print(check_data['IMAGE'].shape)\n",
    "\n",
    "num_display = 10\n",
    "if check_data['IMAGE'].shape[0] < num_display:\n",
    "    num_display = check_data['IMAGE'].shape[0]\n",
    "\n",
    "for i in range(num_display):\n",
    "    image, label = (check_data['IMAGE'][i][0], check_data['SEGM'][i][0])\n",
    "    print('image shape: {}, label shape: {}'.format(image.shape, label.shape))\n",
    "    print('image mean: {}'.format(np.mean(image.numpy())))\n",
    "\n",
    "    slice_num = image.shape[2]//2\n",
    "    \n",
    "    plt.figure('check', (6, 3))\n",
    "    plt.subplot(1, 2, 1)\n",
    "    plt.title('IMAGE')\n",
    "    plt.imshow(image[:,:,slice_num], cmap='gray')\n",
    "    plt.subplot(1, 2, 2)\n",
    "    plt.title('SEGM')\n",
    "    plt.imshow(label[:,:,slice_num])\n",
    "    plt.show()"
   ]
  },
  {
   "cell_type": "markdown",
   "metadata": {},
   "source": [
    "## Create a Persistent Data Cache for Training/Validation/Test Data"
   ]
  },
  {
   "cell_type": "code",
   "execution_count": 8,
   "metadata": {},
   "outputs": [],
   "source": [
    "CACHE_PATH = r'monai_cache'"
   ]
  },
  {
   "cell_type": "code",
   "execution_count": 9,
   "metadata": {},
   "outputs": [],
   "source": [
    "train_ds = monai.data.PersistentDataset(\n",
    "    data=train_data_dict, transform=train_transforms, cache_dir=CACHE_PATH\n",
    ")\n",
    "\n",
    "train_loader = DataLoader(train_ds, batch_size=16, shuffle=True, num_workers=4, collate_fn=list_data_collate)"
   ]
  },
  {
   "cell_type": "code",
   "execution_count": 10,
   "metadata": {},
   "outputs": [],
   "source": [
    "val_ds = monai.data.PersistentDataset(\n",
    "    data=val_data_dict, transform=val_transforms, cache_dir=CACHE_PATH\n",
    ")\n",
    "\n",
    "val_loader = DataLoader(val_ds, batch_size=1, num_workers=4, collate_fn=list_data_collate)"
   ]
  },
  {
   "cell_type": "code",
   "execution_count": 11,
   "metadata": {},
   "outputs": [],
   "source": [
    "test_ds = monai.data.PersistentDataset(\n",
    "    data=test_data_dict, transform=test_transforms, cache_dir=CACHE_PATH\n",
    ")\n",
    "\n",
    "test_loader = DataLoader(test_ds, batch_size=1, num_workers=4)"
   ]
  },
  {
   "cell_type": "markdown",
   "metadata": {},
   "source": [
    "## Create Segmentation Model (U-net)"
   ]
  },
  {
   "cell_type": "code",
   "execution_count": 12,
   "metadata": {},
   "outputs": [
    {
     "name": "stdout",
     "output_type": "stream",
     "text": [
      "----------------------------------------------------------------\n",
      "        Layer (type)               Output Shape         Param #\n",
      "================================================================\n",
      "            Conv3d-1       [-1, 16, 32, 32, 16]             448\n",
      "            Conv3d-2       [-1, 16, 32, 32, 16]             448\n",
      "       BatchNorm3d-3       [-1, 16, 32, 32, 16]              32\n",
      "             PReLU-4       [-1, 16, 32, 32, 16]               1\n",
      "            Conv3d-5       [-1, 16, 32, 32, 16]           6,928\n",
      "       BatchNorm3d-6       [-1, 16, 32, 32, 16]              32\n",
      "             PReLU-7       [-1, 16, 32, 32, 16]               1\n",
      "      ResidualUnit-8       [-1, 16, 32, 32, 16]               0\n",
      "            Conv3d-9        [-1, 32, 16, 16, 8]          13,856\n",
      "           Conv3d-10        [-1, 32, 16, 16, 8]          13,856\n",
      "      BatchNorm3d-11        [-1, 32, 16, 16, 8]              64\n",
      "            PReLU-12        [-1, 32, 16, 16, 8]               1\n",
      "           Conv3d-13        [-1, 32, 16, 16, 8]          27,680\n",
      "      BatchNorm3d-14        [-1, 32, 16, 16, 8]              64\n",
      "            PReLU-15        [-1, 32, 16, 16, 8]               1\n",
      "     ResidualUnit-16        [-1, 32, 16, 16, 8]               0\n",
      "           Conv3d-17          [-1, 64, 8, 8, 4]          55,360\n",
      "           Conv3d-18          [-1, 64, 8, 8, 4]          55,360\n",
      "      BatchNorm3d-19          [-1, 64, 8, 8, 4]             128\n",
      "            PReLU-20          [-1, 64, 8, 8, 4]               1\n",
      "           Conv3d-21          [-1, 64, 8, 8, 4]         110,656\n",
      "      BatchNorm3d-22          [-1, 64, 8, 8, 4]             128\n",
      "            PReLU-23          [-1, 64, 8, 8, 4]               1\n",
      "     ResidualUnit-24          [-1, 64, 8, 8, 4]               0\n",
      "           Conv3d-25         [-1, 128, 8, 8, 4]           8,320\n",
      "           Conv3d-26         [-1, 128, 8, 8, 4]         221,312\n",
      "      BatchNorm3d-27         [-1, 128, 8, 8, 4]             256\n",
      "            PReLU-28         [-1, 128, 8, 8, 4]               1\n",
      "           Conv3d-29         [-1, 128, 8, 8, 4]         442,496\n",
      "      BatchNorm3d-30         [-1, 128, 8, 8, 4]             256\n",
      "            PReLU-31         [-1, 128, 8, 8, 4]               1\n",
      "     ResidualUnit-32         [-1, 128, 8, 8, 4]               0\n",
      "   SkipConnection-33         [-1, 192, 8, 8, 4]               0\n",
      "  ConvTranspose3d-34        [-1, 32, 16, 16, 8]         165,920\n",
      "      BatchNorm3d-35        [-1, 32, 16, 16, 8]              64\n",
      "            PReLU-36        [-1, 32, 16, 16, 8]               1\n",
      "         Identity-37        [-1, 32, 16, 16, 8]               0\n",
      "           Conv3d-38        [-1, 32, 16, 16, 8]          27,680\n",
      "      BatchNorm3d-39        [-1, 32, 16, 16, 8]              64\n",
      "            PReLU-40        [-1, 32, 16, 16, 8]               1\n",
      "     ResidualUnit-41        [-1, 32, 16, 16, 8]               0\n",
      "   SkipConnection-42        [-1, 64, 16, 16, 8]               0\n",
      "  ConvTranspose3d-43       [-1, 16, 32, 32, 16]          27,664\n",
      "      BatchNorm3d-44       [-1, 16, 32, 32, 16]              32\n",
      "            PReLU-45       [-1, 16, 32, 32, 16]               1\n",
      "         Identity-46       [-1, 16, 32, 32, 16]               0\n",
      "           Conv3d-47       [-1, 16, 32, 32, 16]           6,928\n",
      "      BatchNorm3d-48       [-1, 16, 32, 32, 16]              32\n",
      "            PReLU-49       [-1, 16, 32, 32, 16]               1\n",
      "     ResidualUnit-50       [-1, 16, 32, 32, 16]               0\n",
      "   SkipConnection-51       [-1, 32, 32, 32, 16]               0\n",
      "  ConvTranspose3d-52        [-1, 2, 64, 64, 32]           1,730\n",
      "      BatchNorm3d-53        [-1, 2, 64, 64, 32]               4\n",
      "            PReLU-54        [-1, 2, 64, 64, 32]               1\n",
      "         Identity-55        [-1, 2, 64, 64, 32]               0\n",
      "           Conv3d-56        [-1, 2, 64, 64, 32]             110\n",
      "     ResidualUnit-57        [-1, 2, 64, 64, 32]               0\n",
      "             UNet-58        [-1, 2, 64, 64, 32]               0\n",
      "================================================================\n",
      "Total params: 1,187,921\n",
      "Trainable params: 1,187,921\n",
      "Non-trainable params: 0\n",
      "----------------------------------------------------------------\n",
      "Input size (MB): 0.50\n",
      "Forward/backward pass size (MB): 62.38\n",
      "Params size (MB): 4.53\n",
      "Estimated Total Size (MB): 67.41\n",
      "----------------------------------------------------------------\n"
     ]
    }
   ],
   "source": [
    "from torchsummary import summary\n",
    "\n",
    "device = torch.device(\"cuda:0\" if torch.cuda.is_available() else \"cpu\")\n",
    "model = network.MRILiverSegmentation().to(device)\n",
    "summary(model, (1,64,64,32))"
   ]
  },
  {
   "cell_type": "markdown",
   "metadata": {},
   "source": [
    "## Train the Model Using Lightning Training Loop"
   ]
  },
  {
   "cell_type": "code",
   "execution_count": 13,
   "metadata": {},
   "outputs": [],
   "source": [
    "MODEL_ROOT_PATH = r'../../saved_models/ex2'"
   ]
  },
  {
   "cell_type": "code",
   "execution_count": null,
   "metadata": {},
   "outputs": [],
   "source": [
    "# initialise the LightningModule\n",
    "model = network.MRILiverSegmentation()\n",
    "\n",
    "# set up loggers and checkpoints\n",
    "tb_logger = pytorch_lightning.loggers.TensorBoardLogger(\n",
    "    save_dir=os.path.join(MODEL_ROOT_PATH,'saved_model','logs')\n",
    ")\n",
    "\n",
    "checkpoint_callback = pytorch_lightning.callbacks.model_checkpoint.ModelCheckpoint(\n",
    "    filepath=os.path.join(MODEL_ROOT_PATH, 'saved_model',\"{epoch}-{val_dice:.2f}\"),\n",
    "    save_last=True,\n",
    "    save_top_k=2,\n",
    ")\n",
    "\n",
    "# check for last checkpoint\n",
    "resume_checkpoint = None\n",
    "if os.path.exists(os.path.join(MODEL_ROOT_PATH,'saved_model','last.ckpt')):\n",
    "    resume_checkpoint = os.path.join(MODEL_ROOT_PATH,'saved_model','last.ckpt')\n",
    "\n",
    "# initialise Lightning's trainer.\n",
    "trainer = pytorch_lightning.Trainer(\n",
    "    gpus=[0],\n",
    "    max_epochs=500,\n",
    "    logger=tb_logger,\n",
    "    checkpoint_callback=checkpoint_callback,\n",
    "    show_progress_bar=False,\n",
    "    num_sanity_val_steps=0,\n",
    "    check_val_every_n_epoch=10,\n",
    "    resume_from_checkpoint=resume_checkpoint\n",
    ")\n",
    "\n",
    "# train\n",
    "trainer.fit(model, train_dataloader=train_loader, val_dataloaders=val_loader)\n",
    "# IPython.display.clear_output()"
   ]
  },
  {
   "cell_type": "markdown",
   "metadata": {},
   "source": [
    "## Model Evaluation\n"
   ]
  },
  {
   "cell_type": "code",
   "execution_count": 14,
   "metadata": {},
   "outputs": [
    {
     "data": {
      "text/plain": [
       "<All keys matched successfully>"
      ]
     },
     "execution_count": 14,
     "metadata": {},
     "output_type": "execute_result"
    }
   ],
   "source": [
    "# Load \n",
    "checkpoint = torch.load(os.path.join(MODEL_ROOT_PATH,'saved_model','last.ckpt'))\n",
    "\n",
    "model = network.MRILiverSegmentation()\n",
    "model.load_state_dict(checkpoint['state_dict'])"
   ]
  },
  {
   "cell_type": "markdown",
   "metadata": {},
   "source": [
    "### Inference on Training Data"
   ]
  },
  {
   "cell_type": "code",
   "execution_count": 15,
   "metadata": {},
   "outputs": [
    {
     "data": {
      "application/vnd.jupyter.widget-view+json": {
       "model_id": "2bdf3fd29aeb4197b1822de8e611f38a",
       "version_major": 2,
       "version_minor": 0
      },
      "text/plain": [
       "0it [00:00, ?it/s]"
      ]
     },
     "metadata": {},
     "output_type": "display_data"
    },
    {
     "name": "stderr",
     "output_type": "stream",
     "text": [
      "/home/jonofrey/anaconda3/envs/monai/lib/python3.8/site-packages/monai/metrics/meandice.py:209: UserWarning: y_pred has only one channel, include_background=False ignored.\n",
      "  warnings.warn(\"y_pred has only one channel, include_background=False ignored.\")\n"
     ]
    },
    {
     "data": {
      "text/html": [
       "<div>\n",
       "<style scoped>\n",
       "    .dataframe tbody tr th:only-of-type {\n",
       "        vertical-align: middle;\n",
       "    }\n",
       "\n",
       "    .dataframe tbody tr th {\n",
       "        vertical-align: top;\n",
       "    }\n",
       "\n",
       "    .dataframe thead th {\n",
       "        text-align: right;\n",
       "    }\n",
       "</style>\n",
       "<table border=\"1\" class=\"dataframe\">\n",
       "  <thead>\n",
       "    <tr style=\"text-align: right;\">\n",
       "      <th></th>\n",
       "      <th>DICE</th>\n",
       "      <th>POST_DICE</th>\n",
       "      <th>HD95</th>\n",
       "      <th>POST_HD95</th>\n",
       "      <th>MAD</th>\n",
       "      <th>POST_MAD</th>\n",
       "      <th>InferenceTime</th>\n",
       "    </tr>\n",
       "  </thead>\n",
       "  <tbody>\n",
       "    <tr>\n",
       "      <th>count</th>\n",
       "      <td>129.000000</td>\n",
       "      <td>129.000000</td>\n",
       "      <td>129.000000</td>\n",
       "      <td>129.000000</td>\n",
       "      <td>129.000000</td>\n",
       "      <td>129.000000</td>\n",
       "      <td>129.000000</td>\n",
       "    </tr>\n",
       "    <tr>\n",
       "      <th>mean</th>\n",
       "      <td>0.951814</td>\n",
       "      <td>0.960083</td>\n",
       "      <td>15.290818</td>\n",
       "      <td>2.386046</td>\n",
       "      <td>3.155283</td>\n",
       "      <td>0.655610</td>\n",
       "      <td>0.655610</td>\n",
       "    </tr>\n",
       "    <tr>\n",
       "      <th>std</th>\n",
       "      <td>0.023360</td>\n",
       "      <td>0.011206</td>\n",
       "      <td>20.284821</td>\n",
       "      <td>2.265842</td>\n",
       "      <td>4.366204</td>\n",
       "      <td>0.315131</td>\n",
       "      <td>0.315131</td>\n",
       "    </tr>\n",
       "    <tr>\n",
       "      <th>min</th>\n",
       "      <td>0.776341</td>\n",
       "      <td>0.910149</td>\n",
       "      <td>1.414214</td>\n",
       "      <td>1.414214</td>\n",
       "      <td>0.426737</td>\n",
       "      <td>0.405466</td>\n",
       "      <td>0.405466</td>\n",
       "    </tr>\n",
       "    <tr>\n",
       "      <th>25%</th>\n",
       "      <td>0.946509</td>\n",
       "      <td>0.955099</td>\n",
       "      <td>2.000000</td>\n",
       "      <td>1.732051</td>\n",
       "      <td>0.827146</td>\n",
       "      <td>0.524287</td>\n",
       "      <td>0.524287</td>\n",
       "    </tr>\n",
       "    <tr>\n",
       "      <th>50%</th>\n",
       "      <td>0.956966</td>\n",
       "      <td>0.962772</td>\n",
       "      <td>2.449490</td>\n",
       "      <td>2.000000</td>\n",
       "      <td>1.357560</td>\n",
       "      <td>0.609742</td>\n",
       "      <td>0.609742</td>\n",
       "    </tr>\n",
       "    <tr>\n",
       "      <th>75%</th>\n",
       "      <td>0.964742</td>\n",
       "      <td>0.967512</td>\n",
       "      <td>28.904151</td>\n",
       "      <td>2.449490</td>\n",
       "      <td>3.559184</td>\n",
       "      <td>0.695687</td>\n",
       "      <td>0.695687</td>\n",
       "    </tr>\n",
       "    <tr>\n",
       "      <th>max</th>\n",
       "      <td>0.978501</td>\n",
       "      <td>0.979011</td>\n",
       "      <td>80.164830</td>\n",
       "      <td>25.298221</td>\n",
       "      <td>26.024026</td>\n",
       "      <td>3.774324</td>\n",
       "      <td>3.774324</td>\n",
       "    </tr>\n",
       "  </tbody>\n",
       "</table>\n",
       "</div>"
      ],
      "text/plain": [
       "             DICE   POST_DICE        HD95   POST_HD95         MAD    POST_MAD  \\\n",
       "count  129.000000  129.000000  129.000000  129.000000  129.000000  129.000000   \n",
       "mean     0.951814    0.960083   15.290818    2.386046    3.155283    0.655610   \n",
       "std      0.023360    0.011206   20.284821    2.265842    4.366204    0.315131   \n",
       "min      0.776341    0.910149    1.414214    1.414214    0.426737    0.405466   \n",
       "25%      0.946509    0.955099    2.000000    1.732051    0.827146    0.524287   \n",
       "50%      0.956966    0.962772    2.449490    2.000000    1.357560    0.609742   \n",
       "75%      0.964742    0.967512   28.904151    2.449490    3.559184    0.695687   \n",
       "max      0.978501    0.979011   80.164830   25.298221   26.024026    3.774324   \n",
       "\n",
       "       InferenceTime  \n",
       "count     129.000000  \n",
       "mean        0.655610  \n",
       "std         0.315131  \n",
       "min         0.405466  \n",
       "25%         0.524287  \n",
       "50%         0.609742  \n",
       "75%         0.695687  \n",
       "max         3.774324  "
      ]
     },
     "execution_count": 15,
     "metadata": {},
     "output_type": "execute_result"
    }
   ],
   "source": [
    "train_infer_ds = monai.data.Dataset(\n",
    "    data=train_data_dict, transform=test_transforms\n",
    ")\n",
    "train_infer_loader = DataLoader(train_infer_ds, batch_size=1, num_workers=4)\n",
    "\n",
    "df_results_train = utils.evaluate(model=model, data_loader=train_infer_loader)\n",
    "df_results_train.describe()\n"
   ]
  },
  {
   "cell_type": "code",
   "execution_count": 16,
   "metadata": {},
   "outputs": [],
   "source": [
    "df_results_train.to_csv('AS-Net_Results_Training.csv', index=False)"
   ]
  },
  {
   "cell_type": "markdown",
   "metadata": {},
   "source": [
    "### Inference on Validation Data"
   ]
  },
  {
   "cell_type": "code",
   "execution_count": 17,
   "metadata": {
    "scrolled": false
   },
   "outputs": [
    {
     "data": {
      "application/vnd.jupyter.widget-view+json": {
       "model_id": "e81250606e0d4c379075c7f660f7d124",
       "version_major": 2,
       "version_minor": 0
      },
      "text/plain": [
       "0it [00:00, ?it/s]"
      ]
     },
     "metadata": {},
     "output_type": "display_data"
    },
    {
     "name": "stderr",
     "output_type": "stream",
     "text": [
      "/home/jonofrey/anaconda3/envs/monai/lib/python3.8/site-packages/monai/metrics/meandice.py:209: UserWarning: y_pred has only one channel, include_background=False ignored.\n",
      "  warnings.warn(\"y_pred has only one channel, include_background=False ignored.\")\n"
     ]
    },
    {
     "data": {
      "text/html": [
       "<div>\n",
       "<style scoped>\n",
       "    .dataframe tbody tr th:only-of-type {\n",
       "        vertical-align: middle;\n",
       "    }\n",
       "\n",
       "    .dataframe tbody tr th {\n",
       "        vertical-align: top;\n",
       "    }\n",
       "\n",
       "    .dataframe thead th {\n",
       "        text-align: right;\n",
       "    }\n",
       "</style>\n",
       "<table border=\"1\" class=\"dataframe\">\n",
       "  <thead>\n",
       "    <tr style=\"text-align: right;\">\n",
       "      <th></th>\n",
       "      <th>DICE</th>\n",
       "      <th>POST_DICE</th>\n",
       "      <th>HD95</th>\n",
       "      <th>POST_HD95</th>\n",
       "      <th>MAD</th>\n",
       "      <th>POST_MAD</th>\n",
       "      <th>InferenceTime</th>\n",
       "    </tr>\n",
       "  </thead>\n",
       "  <tbody>\n",
       "    <tr>\n",
       "      <th>count</th>\n",
       "      <td>28.000000</td>\n",
       "      <td>28.000000</td>\n",
       "      <td>28.000000</td>\n",
       "      <td>28.000000</td>\n",
       "      <td>28.000000</td>\n",
       "      <td>28.000000</td>\n",
       "      <td>28.000000</td>\n",
       "    </tr>\n",
       "    <tr>\n",
       "      <th>mean</th>\n",
       "      <td>0.914011</td>\n",
       "      <td>0.924932</td>\n",
       "      <td>15.082988</td>\n",
       "      <td>5.349333</td>\n",
       "      <td>4.162228</td>\n",
       "      <td>1.206236</td>\n",
       "      <td>1.206236</td>\n",
       "    </tr>\n",
       "    <tr>\n",
       "      <th>std</th>\n",
       "      <td>0.142164</td>\n",
       "      <td>0.156296</td>\n",
       "      <td>20.313615</td>\n",
       "      <td>9.334094</td>\n",
       "      <td>6.432343</td>\n",
       "      <td>1.727150</td>\n",
       "      <td>1.727150</td>\n",
       "    </tr>\n",
       "    <tr>\n",
       "      <th>min</th>\n",
       "      <td>0.233595</td>\n",
       "      <td>0.133062</td>\n",
       "      <td>1.414214</td>\n",
       "      <td>1.414214</td>\n",
       "      <td>0.521821</td>\n",
       "      <td>0.472805</td>\n",
       "      <td>0.472805</td>\n",
       "    </tr>\n",
       "    <tr>\n",
       "      <th>25%</th>\n",
       "      <td>0.943061</td>\n",
       "      <td>0.952273</td>\n",
       "      <td>2.177051</td>\n",
       "      <td>2.000000</td>\n",
       "      <td>0.983629</td>\n",
       "      <td>0.539896</td>\n",
       "      <td>0.539896</td>\n",
       "    </tr>\n",
       "    <tr>\n",
       "      <th>50%</th>\n",
       "      <td>0.954058</td>\n",
       "      <td>0.958742</td>\n",
       "      <td>3.000000</td>\n",
       "      <td>2.236068</td>\n",
       "      <td>1.441224</td>\n",
       "      <td>0.692230</td>\n",
       "      <td>0.692230</td>\n",
       "    </tr>\n",
       "    <tr>\n",
       "      <th>75%</th>\n",
       "      <td>0.961502</td>\n",
       "      <td>0.965504</td>\n",
       "      <td>27.184906</td>\n",
       "      <td>3.079156</td>\n",
       "      <td>4.351283</td>\n",
       "      <td>0.869316</td>\n",
       "      <td>0.869316</td>\n",
       "    </tr>\n",
       "    <tr>\n",
       "      <th>max</th>\n",
       "      <td>0.974392</td>\n",
       "      <td>0.974695</td>\n",
       "      <td>67.889616</td>\n",
       "      <td>46.086874</td>\n",
       "      <td>26.175416</td>\n",
       "      <td>9.126712</td>\n",
       "      <td>9.126712</td>\n",
       "    </tr>\n",
       "  </tbody>\n",
       "</table>\n",
       "</div>"
      ],
      "text/plain": [
       "            DICE  POST_DICE       HD95  POST_HD95        MAD   POST_MAD  \\\n",
       "count  28.000000  28.000000  28.000000  28.000000  28.000000  28.000000   \n",
       "mean    0.914011   0.924932  15.082988   5.349333   4.162228   1.206236   \n",
       "std     0.142164   0.156296  20.313615   9.334094   6.432343   1.727150   \n",
       "min     0.233595   0.133062   1.414214   1.414214   0.521821   0.472805   \n",
       "25%     0.943061   0.952273   2.177051   2.000000   0.983629   0.539896   \n",
       "50%     0.954058   0.958742   3.000000   2.236068   1.441224   0.692230   \n",
       "75%     0.961502   0.965504  27.184906   3.079156   4.351283   0.869316   \n",
       "max     0.974392   0.974695  67.889616  46.086874  26.175416   9.126712   \n",
       "\n",
       "       InferenceTime  \n",
       "count      28.000000  \n",
       "mean        1.206236  \n",
       "std         1.727150  \n",
       "min         0.472805  \n",
       "25%         0.539896  \n",
       "50%         0.692230  \n",
       "75%         0.869316  \n",
       "max         9.126712  "
      ]
     },
     "execution_count": 17,
     "metadata": {},
     "output_type": "execute_result"
    }
   ],
   "source": [
    "df_results_val = utils.evaluate(model=model, data_loader=val_loader)\n",
    "df_results_val.describe()"
   ]
  },
  {
   "cell_type": "code",
   "execution_count": 18,
   "metadata": {},
   "outputs": [],
   "source": [
    "df_results_val.to_csv('AS-Net_Results_Validation.csv', index=False)"
   ]
  },
  {
   "cell_type": "markdown",
   "metadata": {},
   "source": [
    "### Inference on Test Data"
   ]
  },
  {
   "cell_type": "code",
   "execution_count": 19,
   "metadata": {
    "scrolled": false
   },
   "outputs": [
    {
     "data": {
      "application/vnd.jupyter.widget-view+json": {
       "model_id": "0532bfd917b2403fa82b4bc4bb47e994",
       "version_major": 2,
       "version_minor": 0
      },
      "text/plain": [
       "0it [00:00, ?it/s]"
      ]
     },
     "metadata": {},
     "output_type": "display_data"
    },
    {
     "name": "stderr",
     "output_type": "stream",
     "text": [
      "/home/jonofrey/anaconda3/envs/monai/lib/python3.8/site-packages/monai/metrics/meandice.py:209: UserWarning: y_pred has only one channel, include_background=False ignored.\n",
      "  warnings.warn(\"y_pred has only one channel, include_background=False ignored.\")\n"
     ]
    },
    {
     "data": {
      "text/html": [
       "<div>\n",
       "<style scoped>\n",
       "    .dataframe tbody tr th:only-of-type {\n",
       "        vertical-align: middle;\n",
       "    }\n",
       "\n",
       "    .dataframe tbody tr th {\n",
       "        vertical-align: top;\n",
       "    }\n",
       "\n",
       "    .dataframe thead th {\n",
       "        text-align: right;\n",
       "    }\n",
       "</style>\n",
       "<table border=\"1\" class=\"dataframe\">\n",
       "  <thead>\n",
       "    <tr style=\"text-align: right;\">\n",
       "      <th></th>\n",
       "      <th>DICE</th>\n",
       "      <th>POST_DICE</th>\n",
       "      <th>HD95</th>\n",
       "      <th>POST_HD95</th>\n",
       "      <th>MAD</th>\n",
       "      <th>POST_MAD</th>\n",
       "      <th>InferenceTime</th>\n",
       "    </tr>\n",
       "  </thead>\n",
       "  <tbody>\n",
       "    <tr>\n",
       "      <th>count</th>\n",
       "      <td>44.000000</td>\n",
       "      <td>44.000000</td>\n",
       "      <td>44.000000</td>\n",
       "      <td>44.000000</td>\n",
       "      <td>44.000000</td>\n",
       "      <td>44.000000</td>\n",
       "      <td>44.000000</td>\n",
       "    </tr>\n",
       "    <tr>\n",
       "      <th>mean</th>\n",
       "      <td>0.947805</td>\n",
       "      <td>0.953664</td>\n",
       "      <td>16.989172</td>\n",
       "      <td>3.500261</td>\n",
       "      <td>2.710190</td>\n",
       "      <td>0.750125</td>\n",
       "      <td>0.750125</td>\n",
       "    </tr>\n",
       "    <tr>\n",
       "      <th>std</th>\n",
       "      <td>0.026278</td>\n",
       "      <td>0.018455</td>\n",
       "      <td>19.554896</td>\n",
       "      <td>4.033337</td>\n",
       "      <td>2.848960</td>\n",
       "      <td>0.370064</td>\n",
       "      <td>0.370064</td>\n",
       "    </tr>\n",
       "    <tr>\n",
       "      <th>min</th>\n",
       "      <td>0.820215</td>\n",
       "      <td>0.899152</td>\n",
       "      <td>1.414214</td>\n",
       "      <td>1.414214</td>\n",
       "      <td>0.436969</td>\n",
       "      <td>0.436969</td>\n",
       "      <td>0.436969</td>\n",
       "    </tr>\n",
       "    <tr>\n",
       "      <th>25%</th>\n",
       "      <td>0.941119</td>\n",
       "      <td>0.946443</td>\n",
       "      <td>2.236068</td>\n",
       "      <td>2.000000</td>\n",
       "      <td>0.750245</td>\n",
       "      <td>0.579927</td>\n",
       "      <td>0.579927</td>\n",
       "    </tr>\n",
       "    <tr>\n",
       "      <th>50%</th>\n",
       "      <td>0.953674</td>\n",
       "      <td>0.960306</td>\n",
       "      <td>4.182873</td>\n",
       "      <td>2.236068</td>\n",
       "      <td>1.430524</td>\n",
       "      <td>0.625914</td>\n",
       "      <td>0.625914</td>\n",
       "    </tr>\n",
       "    <tr>\n",
       "      <th>75%</th>\n",
       "      <td>0.963260</td>\n",
       "      <td>0.966649</td>\n",
       "      <td>32.282365</td>\n",
       "      <td>3.000000</td>\n",
       "      <td>3.690852</td>\n",
       "      <td>0.764092</td>\n",
       "      <td>0.764092</td>\n",
       "    </tr>\n",
       "    <tr>\n",
       "      <th>max</th>\n",
       "      <td>0.974429</td>\n",
       "      <td>0.975951</td>\n",
       "      <td>86.406018</td>\n",
       "      <td>24.690072</td>\n",
       "      <td>11.974038</td>\n",
       "      <td>2.543459</td>\n",
       "      <td>2.543459</td>\n",
       "    </tr>\n",
       "  </tbody>\n",
       "</table>\n",
       "</div>"
      ],
      "text/plain": [
       "            DICE  POST_DICE       HD95  POST_HD95        MAD   POST_MAD  \\\n",
       "count  44.000000  44.000000  44.000000  44.000000  44.000000  44.000000   \n",
       "mean    0.947805   0.953664  16.989172   3.500261   2.710190   0.750125   \n",
       "std     0.026278   0.018455  19.554896   4.033337   2.848960   0.370064   \n",
       "min     0.820215   0.899152   1.414214   1.414214   0.436969   0.436969   \n",
       "25%     0.941119   0.946443   2.236068   2.000000   0.750245   0.579927   \n",
       "50%     0.953674   0.960306   4.182873   2.236068   1.430524   0.625914   \n",
       "75%     0.963260   0.966649  32.282365   3.000000   3.690852   0.764092   \n",
       "max     0.974429   0.975951  86.406018  24.690072  11.974038   2.543459   \n",
       "\n",
       "       InferenceTime  \n",
       "count      44.000000  \n",
       "mean        0.750125  \n",
       "std         0.370064  \n",
       "min         0.436969  \n",
       "25%         0.579927  \n",
       "50%         0.625914  \n",
       "75%         0.764092  \n",
       "max         2.543459  "
      ]
     },
     "execution_count": 19,
     "metadata": {},
     "output_type": "execute_result"
    }
   ],
   "source": [
    "OUTPUT_PATH = os.path.join(MODEL_ROOT_PATH,'results')\n",
    "\n",
    "df_results_test = utils.evaluate(model=model, data_loader=test_loader)\n",
    "df_results_test.describe()"
   ]
  },
  {
   "cell_type": "code",
   "execution_count": 20,
   "metadata": {},
   "outputs": [],
   "source": [
    "df_results_test.to_csv('AS-Net_Results_Testing.csv', index=False)"
   ]
  },
  {
   "cell_type": "code",
   "execution_count": null,
   "metadata": {},
   "outputs": [],
   "source": []
  }
 ],
 "metadata": {
  "kernelspec": {
   "display_name": "Python 3",
   "language": "python",
   "name": "python3"
  },
  "language_info": {
   "codemirror_mode": {
    "name": "ipython",
    "version": 3
   },
   "file_extension": ".py",
   "mimetype": "text/x-python",
   "name": "python",
   "nbconvert_exporter": "python",
   "pygments_lexer": "ipython3",
   "version": "3.8.3"
  }
 },
 "nbformat": 4,
 "nbformat_minor": 4
}
